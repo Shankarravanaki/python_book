{
 "cells": [
  {
   "attachments": {},
   "cell_type": "markdown",
   "metadata": {},
   "source": [
    "2.Write apython & create a class namede employee with atrribute name, position ,and salary.Write a method calculate the annual salary of the employee"
   ]
  },
  {
   "cell_type": "code",
   "execution_count": 37,
   "metadata": {},
   "outputs": [
    {
     "name": "stdout",
     "output_type": "stream",
     "text": [
      "1080000\n"
     ]
    }
   ],
   "source": [
    "class Employee():\n",
    "    name=\"\"\n",
    "    pasition=\"\"\n",
    "    salary=0\n",
    "    \n",
    "    def __init__(self,name,position,salary):\n",
    "        self.name=name\n",
    "        self.position=position\n",
    "        self.salary=salary\n",
    "        \n",
    "    def cal_annual_salary(self):\n",
    "        print(self.salary * 12)\n",
    "    \n",
    "\n",
    "obj=Employee(\"shankar\",\"HR\",90000)\n",
    "obj.cal_annual_salary()\n",
    "\n",
    "\n"
   ]
  },
  {
   "attachments": {},
   "cell_type": "markdown",
   "metadata": {},
   "source": [
    "1.Write program to construct a list of even numbers from a list of number in a csv sheet  using list comprehension"
   ]
  },
  {
   "cell_type": "code",
   "execution_count": 17,
   "metadata": {},
   "outputs": [
    {
     "ename": "TypeError",
     "evalue": "read_numbers_from_csv() takes 0 positional arguments but 1 was given",
     "output_type": "error",
     "traceback": [
      "\u001b[1;31m---------------------------------------------------------------------------\u001b[0m",
      "\u001b[1;31mTypeError\u001b[0m                                 Traceback (most recent call last)",
      "Cell \u001b[1;32mIn[17], line 18\u001b[0m\n\u001b[0;32m     16\u001b[0m \u001b[39m# Example usage\u001b[39;00m\n\u001b[0;32m     17\u001b[0m filename \u001b[39m=\u001b[39m \u001b[39m'\u001b[39m\u001b[39mnumbers.csv\u001b[39m\u001b[39m'\u001b[39m\n\u001b[1;32m---> 18\u001b[0m numbers \u001b[39m=\u001b[39m read_numbers_from_csv(\u001b[39m\"\u001b[39;49m\u001b[39mC:/Users/User7/Desktop/s1.csv/Book1.xlsx\u001b[39;49m\u001b[39m\"\u001b[39;49m)\n\u001b[0;32m     19\u001b[0m even_numbers \u001b[39m=\u001b[39m get_even_numbers(numbers)\n\u001b[0;32m     20\u001b[0m \u001b[39mprint\u001b[39m(even_numbers)\n",
      "\u001b[1;31mTypeError\u001b[0m: read_numbers_from_csv() takes 0 positional arguments but 1 was given"
     ]
    }
   ],
   "source": [
    "import csv\n",
    "\n",
    "def read_numbers_from_csv():\n",
    "    numbers = []\n",
    "    with open(\"C:/Users/User7/Desktop/s1.csv/Book1.xlsx\" 'r') as file:\n",
    "        reader = csv.reader(file)\n",
    "        for row in reader:\n",
    "            for item in row:\n",
    "                numbers.append(int(item))\n",
    "            return numbers\n",
    "\n",
    "def get_even_numbers(numbers):\n",
    "    even_numbers = [num for num in numbers if num % 2 == 0]\n",
    "    return even_numbers\n",
    "\n",
    "# Example usage\n",
    "filename = 'numbers.csv'\n",
    "numbers = read_numbers_from_csv(\"C:/Users/User7/Desktop/s1.csv/Book1.xlsx\")\n",
    "even_numbers = get_even_numbers(numbers)\n",
    "print(even_numbers)\n",
    "\n",
    "\n"
   ]
  },
  {
   "attachments": {},
   "cell_type": "markdown",
   "metadata": {},
   "source": [
    "4. Write a program that uses a lambda expression to square each element in a list"
   ]
  },
  {
   "cell_type": "code",
   "execution_count": 11,
   "metadata": {},
   "outputs": [
    {
     "name": "stdout",
     "output_type": "stream",
     "text": [
      "[3, 4, 5, 6, 7, 8]\n"
     ]
    }
   ],
   "source": [
    "numbers=[1,2,3,4,5,6]\n",
    "squared_numbers=list(map(lambda x:x**2,numbers))\n",
    "print(squared_numbers)"
   ]
  },
  {
   "cell_type": "code",
   "execution_count": 39,
   "metadata": {},
   "outputs": [
    {
     "name": "stdout",
     "output_type": "stream",
     "text": [
      "\n",
      "This line will be appended.\n",
      "This line will be appended.\n",
      "This line will be appended.\n",
      "This line will be appended.\n",
      "This line will be appended.\n",
      "This line will be appended.\n",
      "This line will be appended.\n",
      "Content written to 'example.txt' successfully.\n",
      "\n",
      "This line will be appended.\n",
      "This line will be appended.\n",
      "This line will be appended.\n",
      "This line will be appended.\n",
      "This line will be appended.\n",
      "This line will be appended.\n",
      "This line will be appended.\n",
      "This line will be appended.\n"
     ]
    }
   ],
   "source": [
    "def read_file(file_name):\n",
    "    try:\n",
    "        with open(file_name, 'r') as file:\n",
    "            content = file.read()\n",
    "            print(content)\n",
    "    except FileNotFoundError:\n",
    "        print(f\"File '{file_name}' not found.\")\n",
    "\n",
    "def write_to_file(file_name, content, mode='w'):\n",
    "    try:\n",
    "        with open(file_name, mode) as file:\n",
    "            file.write(content)\n",
    "        print(f\"Content written to '{file_name}' successfully.\")\n",
    "    except FileNotFoundError:\n",
    "        print(f\"File '{file_name}' not found.\")\n",
    "\n",
    "# Read and print the contents of a file\n",
    "read_file('example.txt')\n",
    "\n",
    "# Write new content to a file in append mode\n",
    "write_to_file('example.txt', '\\nThis line will be appended.', mode='a')\n",
    "\n",
    "# Read and print the updated contents of the file\n",
    "read_file('example.txt')"
   ]
  }
 ],
 "metadata": {
  "kernelspec": {
   "display_name": "Python 3",
   "language": "python",
   "name": "python3"
  },
  "language_info": {
   "codemirror_mode": {
    "name": "ipython",
    "version": 3
   },
   "file_extension": ".py",
   "mimetype": "text/x-python",
   "name": "python",
   "nbconvert_exporter": "python",
   "pygments_lexer": "ipython3",
   "version": "3.11.2"
  },
  "orig_nbformat": 4
 },
 "nbformat": 4,
 "nbformat_minor": 2
}
